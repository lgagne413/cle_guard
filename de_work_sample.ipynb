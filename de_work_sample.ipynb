{
  "nbformat": 4,
  "nbformat_minor": 0,
  "metadata": {
    "colab": {
      "name": "de-work-sample.ipynb",
      "provenance": [],
      "collapsed_sections": [],
      "include_colab_link": true
    },
    "kernelspec": {
      "name": "python3",
      "display_name": "Python 3"
    },
    "language_info": {
      "name": "python"
    }
  },
  "cells": [
    {
      "cell_type": "markdown",
      "metadata": {
        "id": "view-in-github",
        "colab_type": "text"
      },
      "source": [
        "<a href=\"https://colab.research.google.com/github/lgagne413/cle_guard/blob/main/de_work_sample.ipynb\" target=\"_parent\"><img src=\"https://colab.research.google.com/assets/colab-badge.svg\" alt=\"Open In Colab\"/></a>"
      ]
    },
    {
      "cell_type": "markdown",
      "source": [
        "##Welcome!\n",
        "\n",
        "Congratulations and thank you for making it this far in the interview process!\n",
        "\n",
        "As it should have been described to you, the following challenge is designed to reflect a real-world backend data Guardians' project.\n",
        "\n",
        "To get started run the code cell below.\n"
      ],
      "metadata": {
        "id": "hcstdq4DY_qC"
      }
    },
    {
      "cell_type": "code",
      "source": [
        "!wget -q https://github.com/cle-guardians-de/data-work-sample/raw/main/bball-sqlite.zip -O /content/bball-sqlite.zip\n",
        "!unzip -o /content/bball-sqlite.zip\n",
        "!wget -q https://github.com/cle-guardians-de/data-work-sample/raw/main/example_play.json -O /content/example_play.json\n",
        "\n",
        "import pandas as pd\n",
        "import sqlite3\n",
        "import json\n",
        "\n",
        "cnxn = sqlite3.connect('bball-sqlite.db')\n",
        "cursor = cnxn.cursor()\n",
        "\n",
        "print(\"Tables available are...\")\n",
        "query = \"SELECT name FROM sqlite_master WHERE type='table';\"\n",
        "df = pd.read_sql_query(query, cnxn)\n",
        "print(df.head(20))"
      ],
      "metadata": {
        "id": "5Xm-OFmDeo2v",
        "outputId": "3c7a0b5f-50b9-420a-86a5-cc2283dbdf8c",
        "colab": {
          "base_uri": "https://localhost:8080/"
        }
      },
      "execution_count": 1,
      "outputs": [
        {
          "output_type": "stream",
          "name": "stdout",
          "text": [
            "Archive:  /content/bball-sqlite.zip\n",
            "  inflating: bball-sqlite.db         \n",
            "Tables available are...\n",
            "       name\n",
            "0   Batting\n",
            "1  Pitching\n",
            "2      Team\n",
            "3    Player\n"
          ]
        }
      ]
    },
    {
      "cell_type": "code",
      "source": [
        "query = \"SELECT * FROM sqlite_master ;\"\n",
        "df = pd.read_sql_query(query, cnxn)\n",
        "print(df.head(20))"
      ],
      "metadata": {
        "id": "_1ZUcf7wRMgH",
        "outputId": "89ba02ba-cc15-4648-84e0-07d5aa141f71",
        "colab": {
          "base_uri": "https://localhost:8080/"
        }
      },
      "execution_count": 13,
      "outputs": [
        {
          "output_type": "stream",
          "name": "stdout",
          "text": [
            "    type        name  tbl_name  rootpage  \\\n",
            "0  table     Batting   Batting         2   \n",
            "1  table    Pitching  Pitching      3687   \n",
            "2  table        Team      Team      7814   \n",
            "3  index     teamscx      Team      9371   \n",
            "4  index  pitchingcx  Pitching      9487   \n",
            "5  index   battingcx   Batting     10108   \n",
            "6  table      Player    Player      7813   \n",
            "7  index    playercx    Player      8792   \n",
            "\n",
            "                                                 sql  \n",
            "0  CREATE TABLE Batting(\\n\\tplayer_id INT NOT NUL...  \n",
            "1  CREATE TABLE Pitching(\\n\\tplayer_id INT NOT NU...  \n",
            "2  CREATE TABLE Team(\\n\\tseasonRaw VARCHAR(8) NOT...  \n",
            "3  CREATE UNIQUE INDEX teamscx ON Team (season, t...  \n",
            "4  CREATE UNIQUE INDEX pitchingcx ON Pitching (pl...  \n",
            "5  CREATE UNIQUE INDEX battingcx ON Batting (play...  \n",
            "6  CREATE TABLE Player (player_id INT NOT NULL, n...  \n",
            "7  CREATE UNIQUE INDEX playercx ON Player (player...  \n"
          ]
        }
      ]
    },
    {
      "cell_type": "markdown",
      "source": [
        "***The cell above should of downloaded needed files and resulted in final output displaying 4 tables from a sqlite database.  Batting, Pitching, Teams, and Players.  Please answer the following question 3 questions to the best of your ability.***\n",
        "\n",
        "**1)** Analyst would like to see Shane Bieber's (Cleveland Player, player id=669456) earned run avg (ERA) for major league for each regular season. Along with that in the same result set they would like to see the difference between the previous seasons ERA to gauge how he's trending. Result set should be player, season, era, previous era, difference between previous year era, earned runs, and outs.  Any value that's represented as era should be in 3 decimal point precision.Pitching er=earned runs https://www.mlb.com/glossary/standard-stats/earned-run-average"
      ],
      "metadata": {
        "id": "CA09HyFqiBmH"
      }
    },
    {
      "cell_type": "code",
      "source": [
        "query = \"\"\"select * from Pitching where player_id = 669456 order by seasonRaw\"\"\"\n",
        "df = pd.read_sql(query, cnxn)\n",
        "print(df.columns)\n",
        "query = \"\"\"select * from Player where player_id = 669456\"\"\"\n",
        "df = pd.read_sql(query, cnxn)\n",
        "print(df.columns)\n",
        "query = \"\"\"select * from Batting where player_id = 669456\"\"\"\n",
        "df = pd.read_sql(query, cnxn)\n",
        "print(df.columns)\n",
        "query = \"\"\"select * from Team \"\"\"\n",
        "df = pd.read_sql(query, cnxn)\n",
        "print(df.columns)\n"
      ],
      "metadata": {
        "id": "1EGRjwT8QaaD",
        "outputId": "4053857c-b066-48a1-cdf8-0cc0a0233fba",
        "colab": {
          "base_uri": "https://localhost:8080/"
        }
      },
      "execution_count": 19,
      "outputs": [
        {
          "output_type": "stream",
          "name": "stdout",
          "text": [
            "Index(['player_id', 'player', 'team_id', 'seasonRaw', 'season', 'game_type',\n",
            "       'organization_id', 'w', 'l', 'g', 'gs', 'qs', 'cg', 'gf', 'sho', 'sv',\n",
            "       'svo', 'outs', 'h', 'ab', 'pa', 'r', 'er', 'd', 't', 'hr', 'sac', 'sf',\n",
            "       'hb', 'bb', 'ibb', 'so', 'wp', 'bk', 'no_hitter', 'one_hitter',\n",
            "       'two_hitter', 'three_hitter', 'combo_shutout', 'sb', 'cs', 'ci', 'go',\n",
            "       'ao', 'gidp', 'np', 's', 'hld', 'ir', 'irs', 'bq', 'bqs', 'rs',\n",
            "       'first_date', 'last_date'],\n",
            "      dtype='object')\n",
            "Index(['player_id', 'name_last', 'name_first', 'name_middle', 'name_use',\n",
            "       'name_matrilineal', 'gender', 'birth_date', 'birth_city', 'birth_state',\n",
            "       'birth_country', 'death_year', 'death_month', 'death_day', 'death_date',\n",
            "       'death_city', 'death_state', 'death_country', 'high_school', 'college',\n",
            "       'height_feet', 'height_inches', 'weight', 'throws', 'bats',\n",
            "       'pro_debut_year', 'pro_debut_month', 'pro_debut_day', 'pro_debut_date',\n",
            "       'primary_sport_code', 'primary_position', 'active_sw', 'verified_sw',\n",
            "       'player_sw', 'ebis_id'],\n",
            "      dtype='object')\n",
            "Index(['player_id', 'player', 'team_id', 'seasonRaw', 'season', 'game_type',\n",
            "       'organization_id', 'tpa', 'g', 'ab', 'r', 'h', 'tb', 'd', 't', 'hr',\n",
            "       'rbi', 'b_sac', 'sf', 'hbp', 'bb', 'ibb', 'so', 'sb', 'cs', 'gidp',\n",
            "       'ci', 'go', 'ao', 'primary_position', 'first_date', 'last_date'],\n",
            "      dtype='object')\n",
            "Index(['seasonRaw', 'season', 'team_id', 'team_code', 'file_code',\n",
            "       'franchise_code', 'bis_team_code', 'name', 'name_short', 'name_abbrev',\n",
            "       'name_display_brief', 'name_display_short', 'name_display_full',\n",
            "       'name_display_long', 'sport_code', 'sport_code_display',\n",
            "       'sport_code_name', 'league_id', 'league', 'division_id', 'division',\n",
            "       'mlb_org_id', 'mlb_org_abbrev', 'mlb_org_brief', 'mlb_org_short',\n",
            "       'mlb_org', 'venue_id', 'venue_name', 'time_zone', 'time_zone_num',\n",
            "       'time_zone_text', 'time_zone_generic', 'city', 'state', 'website_url',\n",
            "       'first_year_of_play', 'last_year_of_play', 'all_star_sw', 'active_sw',\n",
            "       'home_opener', 'home_opener_time'],\n",
            "      dtype='object')\n"
          ]
        }
      ]
    },
    {
      "cell_type": "code",
      "source": [
        "query = \"\"\"select * from Pitching where player_id = 669456\"\"\"\n",
        "df = pd.read_sql(query, cnxn)\n",
        "print(df.head(100))"
      ],
      "metadata": {
        "id": "EMlqHyTtR8C5",
        "outputId": "21cd6e2e-eca2-4fcf-b615-db95a9acc739",
        "colab": {
          "base_uri": "https://localhost:8080/"
        }
      },
      "execution_count": 15,
      "outputs": [
        {
          "output_type": "stream",
          "name": "stdout",
          "text": [
            "    player_id         player  team_id seasonRaw  season game_type  \\\n",
            "0      669456  Bieber, Shane      114      2018    2018         R   \n",
            "1      669456  Bieber, Shane      114      2019    2019         R   \n",
            "2      669456  Bieber, Shane      114      2019    2019         S   \n",
            "3      669456  Bieber, Shane      114      2020    2020         F   \n",
            "4      669456  Bieber, Shane      114      2020    2020         R   \n",
            "5      669456  Bieber, Shane      114      2020    2020         S   \n",
            "6      669456  Bieber, Shane      114      2021    2021         R   \n",
            "7      669456  Bieber, Shane      114      2021    2021         S   \n",
            "8      669456  Bieber, Shane      159      2019    2019         A   \n",
            "9      669456  Bieber, Shane      402      2017    2017         R   \n",
            "10     669456  Bieber, Shane      402      2018    2018         R   \n",
            "11     669456  Bieber, Shane      402      2021    2021         R   \n",
            "12     669456  Bieber, Shane      437      2017    2017         R   \n",
            "13     669456  Bieber, Shane      445      2018    2018         R   \n",
            "14     669456  Bieber, Shane      445      2021    2021         R   \n",
            "15     669456  Bieber, Shane      481      2017    2017         R   \n",
            "16     669456  Bieber, Shane      545      2016    2016         R   \n",
            "\n",
            "    organization_id   w  l   g  ...    np     s  hld  ir  irs  bq  bqs   rs  \\\n",
            "0               114  11  5  20  ...  1805  1215    0   0    0  15    4   87   \n",
            "1               114  15  8  34  ...  3332  2208    0   0    0  22   10  120   \n",
            "2               114   2  2   6  ...   167   147    0   0    0   0    0    8   \n",
            "3               114   0  1   1  ...   105    62    0   0    0   0    0    2   \n",
            "4               114   8  1  12  ...  1238   785    0   0    0   1    0   32   \n",
            "5               114   1  0   3  ...    49    44    0   0    0   0    0    7   \n",
            "6               114   7  4  16  ...  1559  1017    0   0    0   8    1   42   \n",
            "7               114   2  2   5  ...     0     0    0   0    0   4    1   12   \n",
            "8               114   0  0   1  ...    19    11    1   0    0   0    0    1   \n",
            "9               114   2  1   9  ...   784   548    0   0    0   7    2   40   \n",
            "10              114   3  0   5  ...   386   293    0   0    0   0    0   20   \n",
            "11              114   0  0   1  ...    57    38    0   0    0   0    0    0   \n",
            "12              114   2  3   5  ...   389   284    0   0    0   3    3    8   \n",
            "13              114   3  1   8  ...   691   481    0   0    0   1    1   23   \n",
            "14              114   0  0   1  ...    47    30    0   0    0   1    0    0   \n",
            "15              114   6  1  14  ...  1036   739    0   0    0   9    3   51   \n",
            "16              114   0  0   9  ...   315   231    0   0    0   0    0   10   \n",
            "\n",
            "    first_date   last_date  \n",
            "0   2018/05/31  2018/09/26  \n",
            "1   2019/03/31  2019/09/25  \n",
            "2   2019/02/27  2019/03/24  \n",
            "3   2020/09/29  2020/09/29  \n",
            "4   2020/07/24  2020/09/23  \n",
            "5   2020/02/25  2020/03/06  \n",
            "6   2021/04/01  2021/09/30  \n",
            "7   2021/03/01  2021/03/27  \n",
            "8   2019/07/09  2019/07/09  \n",
            "9   2017/07/25  2017/09/04  \n",
            "10  2018/04/05  2018/04/28  \n",
            "11  2021/09/19  2021/09/19  \n",
            "12  2017/04/09  2017/04/30  \n",
            "13  2018/05/03  2018/07/19  \n",
            "14  2021/09/14  2021/09/14  \n",
            "15  2017/05/07  2017/07/18  \n",
            "16  2016/07/22  2016/09/02  \n",
            "\n",
            "[17 rows x 55 columns]\n"
          ]
        }
      ]
    },
    {
      "cell_type": "code",
      "source": [
        "query = \"\"\"select er, g, seasonRaw from Pitching where player_id = 669456\"\"\"\n",
        "df = pd.read_sql(query, cnxn)\n",
        "print(df.head(100))"
      ],
      "metadata": {
        "id": "4sZjLnPhPxaA",
        "outputId": "1e72b979-fc07-43c4-edaf-9e518169fc84",
        "colab": {
          "base_uri": "https://localhost:8080/"
        }
      },
      "execution_count": 21,
      "outputs": [
        {
          "output_type": "stream",
          "name": "stdout",
          "text": [
            "    er   g seasonRaw\n",
            "0   58  20      2018\n",
            "1   78  34      2019\n",
            "2    6   6      2019\n",
            "3    7   1      2020\n",
            "4   14  12      2020\n",
            "5    0   3      2020\n",
            "6   34  16      2021\n",
            "7    6   5      2021\n",
            "8    0   1      2019\n",
            "9   14   9      2017\n",
            "10   4   5      2018\n",
            "11   3   1      2021\n",
            "12  10   5      2017\n",
            "13   9   8      2018\n",
            "14   1   1      2021\n",
            "15  31  14      2017\n",
            "16   1   9      2016\n"
          ]
        }
      ]
    },
    {
      "cell_type": "code",
      "source": [
        "print(\"answer 1)\")\n",
        "query = \"\"\"select 'player, era, prevEra, diff' x\"\"\"\n",
        "df = pd.read_sql(query, cnxn)\n",
        "print(df.head(100))"
      ],
      "metadata": {
        "id": "ojBAytHliZPx",
        "outputId": "46379889-dfc3-41d4-def8-4f761728cdaf",
        "colab": {
          "base_uri": "https://localhost:8080/"
        }
      },
      "execution_count": 2,
      "outputs": [
        {
          "output_type": "stream",
          "name": "stdout",
          "text": [
            "answer 1)\n",
            "                            x\n",
            "0  player, era, prevEra, diff\n"
          ]
        }
      ]
    },
    {
      "cell_type": "markdown",
      "source": [
        "**2)** There's a new feed of player position data... we've been sent a sample play from the league. These files consist of nested json and we'd like to consume the data to begin getting this feed incorporated into our warehouse.  First step you've been tasked with is getting the positional data into sql rows/columns.  So, create a table called MergedPositionalData that consists of.. playId, timestamp, id, typ, x, y, z.  The json files is called example_play.json.  And the positional data is nested under mergedPositionalData key.  playId is under Play.  For context... this data is the x,y,z coordinate on the field of play for players, umpires, and the ball every .033 seconds.\n"
      ],
      "metadata": {
        "id": "3EFyT4r5itma"
      }
    },
    {
      "cell_type": "code",
      "source": [
        "print(\"starting 2)\")\n",
        "cnxn.execute(\"drop table if exists MergedPositionalData;\")\n"
      ],
      "metadata": {
        "id": "L4coml8Xi6hU"
      },
      "execution_count": null,
      "outputs": []
    },
    {
      "cell_type": "markdown",
      "source": [
        "**3)** With the sample data you just loaded... and given that the data spec says the capture time for every object is every 1/30th of a second.  Verify that this one plays timeseries is not missing data for any of the people it contains (people are id > 0, null id's are the ball and can be ignored).\n",
        " \n",
        "Return any data frame you see fit to explain... "
      ],
      "metadata": {
        "id": "zOzamBbEjCNu"
      }
    },
    {
      "cell_type": "code",
      "source": [
        "print(\"answer 3)\")\n",
        "\n",
        "cursor.close()\n",
        "cnxn.close()"
      ],
      "metadata": {
        "id": "8eRGe-A9jMTc"
      },
      "execution_count": null,
      "outputs": []
    },
    {
      "cell_type": "markdown",
      "source": [
        "##Bonus\n",
        "The original instructions of this challenge stated the notebook must be idempotent.  There is a bug in this notebook if we were to re-run after it had already been run.  Find the bug and correct it."
      ],
      "metadata": {
        "id": "jrFTHKzLk2Cd"
      }
    },
    {
      "cell_type": "markdown",
      "source": [
        "**Once complete save the notebook to your github account (File->Save a copy in Github).**"
      ],
      "metadata": {
        "id": "jrGTHKzLk2Cc"
      }
    }
  ]
}