{
  "nbformat": 4,
  "nbformat_minor": 0,
  "metadata": {
    "colab": {
      "name": "de-work-sample.ipynb",
      "provenance": [],
      "collapsed_sections": [],
      "include_colab_link": true
    },
    "kernelspec": {
      "name": "python3",
      "display_name": "Python 3"
    },
    "language_info": {
      "name": "python"
    }
  },
  "cells": [
    {
      "cell_type": "markdown",
      "metadata": {
        "id": "view-in-github",
        "colab_type": "text"
      },
      "source": [
        "<a href=\"https://colab.research.google.com/github/lgagne413/cle_guard/blob/main/de_work_sample.ipynb\" target=\"_parent\"><img src=\"https://colab.research.google.com/assets/colab-badge.svg\" alt=\"Open In Colab\"/></a>"
      ]
    },
    {
      "cell_type": "markdown",
      "source": [
        "##Welcome!\n",
        "\n",
        "Congratulations and thank you for making it this far in the interview process!\n",
        "\n",
        "As it should have been described to you, the following challenge is designed to reflect a real-world backend data Guardians' project.\n",
        "\n",
        "To get started run the code cell below.\n"
      ],
      "metadata": {
        "id": "hcstdq4DY_qC"
      }
    },
    {
      "cell_type": "code",
      "source": [
        "!wget -q https://github.com/cle-guardians-de/data-work-sample/raw/main/bball-sqlite.zip -O /content/bball-sqlite.zip\n",
        "!unzip -o /content/bball-sqlite.zip\n",
        "!wget -q https://github.com/cle-guardians-de/data-work-sample/raw/main/example_play.json -O /content/example_play.json\n",
        "\n",
        "import pandas as pd\n",
        "import sqlite3\n",
        "import json\n",
        "\n",
        "\n",
        "\n"
      ],
      "metadata": {
        "id": "5Xm-OFmDeo2v",
        "colab": {
          "base_uri": "https://localhost:8080/"
        },
        "outputId": "b8223c40-9bcf-409f-daa4-3f3c3d0d7de1"
      },
      "execution_count": 101,
      "outputs": [
        {
          "output_type": "stream",
          "name": "stdout",
          "text": [
            "Archive:  /content/bball-sqlite.zip\n",
            "  inflating: bball-sqlite.db         \n"
          ]
        }
      ]
    },
    {
      "cell_type": "code",
      "source": [
        "cnxn = sqlite3.connect('bball-sqlite.db')\n",
        "cursor = cnxn.cursor()\n",
        "\n",
        "print(\"Tables available are...\")\n",
        "query = \"SELECT name FROM sqlite_master WHERE type='table';\"\n",
        "df = pd.read_sql_query(query, cnxn)\n",
        "print(df.head(20))"
      ],
      "metadata": {
        "colab": {
          "base_uri": "https://localhost:8080/"
        },
        "id": "yywPeUYikXvr",
        "outputId": "c56e75d7-7451-4d1f-c7bd-0a933858f500"
      },
      "execution_count": 113,
      "outputs": [
        {
          "output_type": "stream",
          "name": "stdout",
          "text": [
            "Tables available are...\n",
            "                   name\n",
            "0               Batting\n",
            "1              Pitching\n",
            "2                  Team\n",
            "3                Player\n",
            "4  MergedPositionalData\n"
          ]
        }
      ]
    },
    {
      "cell_type": "code",
      "source": [
        "query = \"SELECT * FROM sqlite_master ;\"\n",
        "df = pd.read_sql_query(query, cnxn)\n",
        "print(df.head(20))"
      ],
      "metadata": {
        "colab": {
          "base_uri": "https://localhost:8080/"
        },
        "id": "_1ZUcf7wRMgH",
        "outputId": "bc88fd7b-f999-4ee9-e3ea-271faf7776ae"
      },
      "execution_count": 114,
      "outputs": [
        {
          "output_type": "stream",
          "name": "stdout",
          "text": [
            "    type                           name              tbl_name  rootpage  \\\n",
            "0  table                        Batting               Batting         2   \n",
            "1  table                       Pitching              Pitching      3687   \n",
            "2  table                           Team                  Team      7814   \n",
            "3  index                        teamscx                  Team      9371   \n",
            "4  index                     pitchingcx              Pitching      9487   \n",
            "5  index                      battingcx               Batting     10108   \n",
            "6  table                         Player                Player      7813   \n",
            "7  index                       playercx                Player      8792   \n",
            "8  table           MergedPositionalData  MergedPositionalData     10854   \n",
            "9  index  ix_MergedPositionalData_index  MergedPositionalData     10855   \n",
            "\n",
            "                                                 sql  \n",
            "0  CREATE TABLE Batting(\\n\\tplayer_id INT NOT NUL...  \n",
            "1  CREATE TABLE Pitching(\\n\\tplayer_id INT NOT NU...  \n",
            "2  CREATE TABLE Team(\\n\\tseasonRaw VARCHAR(8) NOT...  \n",
            "3  CREATE UNIQUE INDEX teamscx ON Team (season, t...  \n",
            "4  CREATE UNIQUE INDEX pitchingcx ON Pitching (pl...  \n",
            "5  CREATE UNIQUE INDEX battingcx ON Batting (play...  \n",
            "6  CREATE TABLE Player (player_id INT NOT NULL, n...  \n",
            "7  CREATE UNIQUE INDEX playercx ON Player (player...  \n",
            "8  CREATE TABLE \"MergedPositionalData\" (\\n\"index\"...  \n",
            "9  CREATE INDEX \"ix_MergedPositionalData_index\"ON...  \n"
          ]
        }
      ]
    },
    {
      "cell_type": "markdown",
      "source": [
        "***The cell above should of downloaded needed files and resulted in final output displaying 4 tables from a sqlite database.  Batting, Pitching, Teams, and Players.  Please answer the following question 3 questions to the best of your ability.***\n",
        "\n",
        "**1)** Analyst would like to see Shane Bieber's (Cleveland Player, player id=669456) earned run avg (ERA) for major league for each regular season. Along with that in the same result set they would like to see the difference between the previous seasons ERA to gauge how he's trending. Result set should be player, season, era, previous era, difference between previous year era, earned runs, and outs.  Any value that's represented as era should be in 3 decimal point precision.Pitching er=earned runs https://www.mlb.com/glossary/standard-stats/earned-run-average"
      ],
      "metadata": {
        "id": "CA09HyFqiBmH"
      }
    },
    {
      "cell_type": "code",
      "source": [
        "query = \"\"\"select * from Pitching where player_id = 669456 order by seasonRaw\"\"\"\n",
        "df = pd.read_sql(query, cnxn)\n",
        "print(df.columns)\n",
        "query = \"\"\"select * from Player where player_id = 669456\"\"\"\n",
        "df = pd.read_sql(query, cnxn)\n",
        "print(df.columns)\n",
        "query = \"\"\"select * from Batting where player_id = 669456\"\"\"\n",
        "df = pd.read_sql(query, cnxn)\n",
        "print(df.columns)\n",
        "query = \"\"\"select * from Team \"\"\"\n",
        "df = pd.read_sql(query, cnxn)\n",
        "print(df.columns)\n"
      ],
      "metadata": {
        "colab": {
          "base_uri": "https://localhost:8080/"
        },
        "id": "1EGRjwT8QaaD",
        "outputId": "2bb85154-dc80-4009-e860-a799447eae73"
      },
      "execution_count": 115,
      "outputs": [
        {
          "output_type": "stream",
          "name": "stdout",
          "text": [
            "Index(['player_id', 'player', 'team_id', 'seasonRaw', 'season', 'game_type',\n",
            "       'organization_id', 'w', 'l', 'g', 'gs', 'qs', 'cg', 'gf', 'sho', 'sv',\n",
            "       'svo', 'outs', 'h', 'ab', 'pa', 'r', 'er', 'd', 't', 'hr', 'sac', 'sf',\n",
            "       'hb', 'bb', 'ibb', 'so', 'wp', 'bk', 'no_hitter', 'one_hitter',\n",
            "       'two_hitter', 'three_hitter', 'combo_shutout', 'sb', 'cs', 'ci', 'go',\n",
            "       'ao', 'gidp', 'np', 's', 'hld', 'ir', 'irs', 'bq', 'bqs', 'rs',\n",
            "       'first_date', 'last_date'],\n",
            "      dtype='object')\n",
            "Index(['player_id', 'name_last', 'name_first', 'name_middle', 'name_use',\n",
            "       'name_matrilineal', 'gender', 'birth_date', 'birth_city', 'birth_state',\n",
            "       'birth_country', 'death_year', 'death_month', 'death_day', 'death_date',\n",
            "       'death_city', 'death_state', 'death_country', 'high_school', 'college',\n",
            "       'height_feet', 'height_inches', 'weight', 'throws', 'bats',\n",
            "       'pro_debut_year', 'pro_debut_month', 'pro_debut_day', 'pro_debut_date',\n",
            "       'primary_sport_code', 'primary_position', 'active_sw', 'verified_sw',\n",
            "       'player_sw', 'ebis_id'],\n",
            "      dtype='object')\n",
            "Index(['player_id', 'player', 'team_id', 'seasonRaw', 'season', 'game_type',\n",
            "       'organization_id', 'tpa', 'g', 'ab', 'r', 'h', 'tb', 'd', 't', 'hr',\n",
            "       'rbi', 'b_sac', 'sf', 'hbp', 'bb', 'ibb', 'so', 'sb', 'cs', 'gidp',\n",
            "       'ci', 'go', 'ao', 'primary_position', 'first_date', 'last_date'],\n",
            "      dtype='object')\n",
            "Index(['seasonRaw', 'season', 'team_id', 'team_code', 'file_code',\n",
            "       'franchise_code', 'bis_team_code', 'name', 'name_short', 'name_abbrev',\n",
            "       'name_display_brief', 'name_display_short', 'name_display_full',\n",
            "       'name_display_long', 'sport_code', 'sport_code_display',\n",
            "       'sport_code_name', 'league_id', 'league', 'division_id', 'division',\n",
            "       'mlb_org_id', 'mlb_org_abbrev', 'mlb_org_brief', 'mlb_org_short',\n",
            "       'mlb_org', 'venue_id', 'venue_name', 'time_zone', 'time_zone_num',\n",
            "       'time_zone_text', 'time_zone_generic', 'city', 'state', 'website_url',\n",
            "       'first_year_of_play', 'last_year_of_play', 'all_star_sw', 'active_sw',\n",
            "       'home_opener', 'home_opener_time'],\n",
            "      dtype='object')\n"
          ]
        }
      ]
    },
    {
      "cell_type": "code",
      "source": [
        "print(\"answer 1)\")\n",
        "query = \"\"\"select name_last || ',' || name_first as 'player',p1.season,\n",
        "round(27.0*sum(p1.er)/sum(p1.outs),3) as 'era',round(27.0*sum(p2.er)/sum(p2.outs),3) as 'prev_era',\n",
        "round(27.0*sum(p1.er)/sum(p1.outs),3)-round(27.0*sum(p2.er)/sum(p2.outs),3) as 'diff_era',\n",
        "sum(p1.er) as 'er',sum(p1.outs) as 'outs'\n",
        "from Pitching p1 \n",
        "inner join Pitching p2 on p1.season=p2.season+1 and p1.player_id=p2.player_id\n",
        "inner join Player pl on p1.player_id=pl.player_id\n",
        "where p1.player_id = 669456\n",
        "group by pl.name_use,p1.season\n",
        "\"\"\"\n",
        "df = pd.read_sql(query, cnxn)\n",
        "print(df.head(100))"
      ],
      "metadata": {
        "id": "ojBAytHliZPx",
        "colab": {
          "base_uri": "https://localhost:8080/"
        },
        "outputId": "d83601ff-3aff-403a-b406-6935f1bdb7d3"
      },
      "execution_count": 132,
      "outputs": [
        {
          "output_type": "stream",
          "name": "stdout",
          "text": [
            "answer 1)\n",
            "         player  season    era  prev_era  diff_era   er  outs\n",
            "0  Bieber,Shane    2017  2.856     0.375     2.481   55   520\n",
            "1  Bieber,Shane    2018  3.288     2.856     0.432  213  1749\n",
            "2  Bieber,Shane    2019  3.159     3.288    -0.129  252  2154\n",
            "3  Bieber,Shane    2020  2.108     3.159    -1.051   63   807\n",
            "4  Bieber,Shane    2021  3.300     2.108     1.192  132  1080\n"
          ]
        }
      ]
    },
    {
      "cell_type": "markdown",
      "source": [
        "**2)** There's a new feed of player position data... we've been sent a sample play from the league. These files consist of nested json and we'd like to consume the data to begin getting this feed incorporated into our warehouse.  First step you've been tasked with is getting the positional data into sql rows/columns.  So, create a table called MergedPositionalData that consists of.. playId, timestamp, id, typ, x, y, z.  The json files is called example_play.json.  And the positional data is nested under mergedPositionalData key.  playId is under Play.  For context... this data is the x,y,z coordinate on the field of play for players, umpires, and the ball every .033 seconds.\n"
      ],
      "metadata": {
        "id": "3EFyT4r5itma"
      }
    },
    {
      "cell_type": "code",
      "source": [
        "print(\"starting 2)\")\n",
        "cnxn.execute(\"drop table if exists MergedPositionalData;\")\n",
        "with open('example_play.json') as j:\n",
        "  data = json.load(j)  \n",
        "print(data.keys())\n",
        "print(data['mergedPositionalData'][0])\n",
        "print(data['mergedPositionalData'][0]['positions'][0])\n",
        "\n",
        "df_data={'playId':[],'timestamp':[],'id':[],'type':[],'x':[],'y':[],'z':[],}\n",
        "play_id = data['Play']['playId']\n",
        "for tsi in range(len(data['mergedPositionalData'])):\n",
        "  ts=data['mergedPositionalData'][tsi]\n",
        "  for posi in range(len(ts['positions'])):\n",
        "    pos = ts['positions'][posi]\n",
        "\n",
        "    df_data['playId'].append(play_id)\n",
        "    df_data['timestamp'].append(ts['timeStamp'])\n",
        "\n",
        "    if 'id' not in pos.keys():\n",
        "      df_data['id'].append(0)\n",
        "    else:\n",
        "      df_data['id'].append(pos['id'])\n",
        "    df_data['type'].append(pos['typ'])\n",
        "    df_data['x'].append(pos['x'])\n",
        "    df_data['y'].append(pos['y'])\n",
        "    df_data['z'].append(pos['qi'])\n",
        "df=pd.DataFrame.from_dict(df_data)\n",
        "#print(df.head(10))\n",
        "df.to_sql('MergedPositionalData',cnxn)"
      ],
      "metadata": {
        "id": "L4coml8Xi6hU",
        "colab": {
          "base_uri": "https://localhost:8080/"
        },
        "outputId": "f83518dd-fc2b-4bf3-efaa-ede44723fed7"
      },
      "execution_count": 108,
      "outputs": [
        {
          "output_type": "stream",
          "name": "stdout",
          "text": [
            "starting 2)\n",
            "dict_keys(['Play', 'mergedPositionalData', 'gameEvent', 'ballPositionalData', 'playEvents', 'gameMetaData', 'measurements'])\n",
            "{'timeStamp': '2021-04-27T22:53:10.537', 'positions': [{'oo': 0, 'x': -11.379039063602816, 'qi': 0, 'y': 161.56143950775393, 'typ': 2, 'id': 16}, {'oo': 0, 'x': 87.40255331551018, 'qi': 0, 'y': 92.80044305786649, 'typ': 2, 'id': 15}, {'oo': 0, 'x': -100.73931207626782, 'qi': 0, 'y': 101.58825375625815, 'typ': 2, 'id': 17}, {'oo': 0, 'x': -1.467968670442033, 'qi': 0, 'y': -2.7976281571602843, 'typ': 2, 'id': 14}, {'oo': 0, 'x': 10.196311102524582, 'qi': 0, 'y': 104.21368921515476, 'typ': 1, 'id': 6}, {'oo': 0, 'x': 24.704141676368593, 'qi': 0, 'y': 35.0912115150846, 'typ': 1, 'id': 1}, {'oo': 0, 'x': 46.33992652361183, 'qi': 0, 'y': 42.76105101928655, 'typ': 3, 'id': 18}, {'oo': 0, 'x': 42.69370698593863, 'qi': 0, 'y': 91.42190261594243, 'typ': 1, 'id': 4}, {'oo': 0, 'x': -90.22524146032416, 'qi': 0, 'y': 36.699031575991725, 'typ': 3, 'id': 19}, {'oo': 0, 'x': 69.93003976639605, 'qi': 0, 'y': 46.40282249559731, 'typ': 1, 'id': 3}, {'oo': 0, 'x': 22.41643570271914, 'qi': 0, 'y': 0.30107752906411767, 'typ': 1, 'id': 2}, {'oo': 0, 'x': -5.153584805924734, 'qi': 0, 'y': 76.48601999888726, 'typ': 1, 'id': 5}, {'oo': 0, 'x': -79.23511414132038, 'qi': 0, 'y': 201.69368087106704, 'typ': 1, 'id': 7}, {'oo': 0, 'x': 118.9001757311804, 'qi': 0, 'y': 162.72692084189558, 'typ': 1, 'id': 9}, {'oo': 0, 'x': 16.58415668961945, 'qi': 0, 'y': 254.91739260908565, 'typ': 1, 'id': 8}, {'oo': 0, 'x': -25.939845342000044, 'qi': 0, 'y': -2.127047070372252, 'typ': 1, 'id': 10}]}\n",
            "{'oo': 0, 'x': -11.379039063602816, 'qi': 0, 'y': 161.56143950775393, 'typ': 2, 'id': 16}\n"
          ]
        }
      ]
    },
    {
      "cell_type": "code",
      "source": [
        "query = \"\"\"select * from MergedPositionalData\"\"\"\n",
        "df = pd.read_sql(query, cnxn)\n",
        "print(df.head(10))"
      ],
      "metadata": {
        "colab": {
          "base_uri": "https://localhost:8080/"
        },
        "id": "Hxuw9is-h-n0",
        "outputId": "2cac23a6-b9d9-4b82-adc9-f76b696829a1"
      },
      "execution_count": 109,
      "outputs": [
        {
          "output_type": "stream",
          "name": "stdout",
          "text": [
            "   index                                playId                timestamp  id  \\\n",
            "0      0  a5c4cf6a-36c5-4ca9-99eb-0130a61ce917  2021-04-27T22:53:10.537  16   \n",
            "1      1  a5c4cf6a-36c5-4ca9-99eb-0130a61ce917  2021-04-27T22:53:10.537  15   \n",
            "2      2  a5c4cf6a-36c5-4ca9-99eb-0130a61ce917  2021-04-27T22:53:10.537  17   \n",
            "3      3  a5c4cf6a-36c5-4ca9-99eb-0130a61ce917  2021-04-27T22:53:10.537  14   \n",
            "4      4  a5c4cf6a-36c5-4ca9-99eb-0130a61ce917  2021-04-27T22:53:10.537   6   \n",
            "5      5  a5c4cf6a-36c5-4ca9-99eb-0130a61ce917  2021-04-27T22:53:10.537   1   \n",
            "6      6  a5c4cf6a-36c5-4ca9-99eb-0130a61ce917  2021-04-27T22:53:10.537  18   \n",
            "7      7  a5c4cf6a-36c5-4ca9-99eb-0130a61ce917  2021-04-27T22:53:10.537   4   \n",
            "8      8  a5c4cf6a-36c5-4ca9-99eb-0130a61ce917  2021-04-27T22:53:10.537  19   \n",
            "9      9  a5c4cf6a-36c5-4ca9-99eb-0130a61ce917  2021-04-27T22:53:10.537   3   \n",
            "\n",
            "   type           x           y  z  \n",
            "0     2  -11.379039  161.561440  0  \n",
            "1     2   87.402553   92.800443  0  \n",
            "2     2 -100.739312  101.588254  0  \n",
            "3     2   -1.467969   -2.797628  0  \n",
            "4     1   10.196311  104.213689  0  \n",
            "5     1   24.704142   35.091212  0  \n",
            "6     3   46.339927   42.761051  0  \n",
            "7     1   42.693707   91.421903  0  \n",
            "8     3  -90.225241   36.699032  0  \n",
            "9     1   69.930040   46.402822  0  \n"
          ]
        }
      ]
    },
    {
      "cell_type": "markdown",
      "source": [
        "**3)** With the sample data you just loaded... and given that the data spec says the capture time for every object is every 1/30th of a second.  Verify that this one plays timeseries is not missing data for any of the people it contains (people are id > 0, null id's are the ball and can be ignored).\n",
        " \n",
        "Return any data frame you see fit to explain... "
      ],
      "metadata": {
        "id": "zOzamBbEjCNu"
      }
    },
    {
      "cell_type": "code",
      "source": [
        "print(\"answer 3)\")\n",
        "query = \"\"\"select *\n",
        "from MergedPositionalData \n",
        "where id > 0 \n",
        "\"\"\"\n",
        "df = pd.read_sql(query, cnxn)\n",
        "print(df.info())\n",
        "\n",
        "query = \"\"\"select id, count(id) \n",
        "from MergedPositionalData \n",
        "where id > 0 \n",
        "group by id\n",
        " order by id\"\"\"\n",
        "df = pd.read_sql(query, cnxn)\n",
        "print(df.head(100), \"\\nlooks good to me\")\n",
        "\n",
        "\n",
        "\n"
      ],
      "metadata": {
        "id": "8eRGe-A9jMTc",
        "colab": {
          "base_uri": "https://localhost:8080/"
        },
        "outputId": "26af1f5f-d817-42a9-ab43-0c8c3a83a31d"
      },
      "execution_count": 110,
      "outputs": [
        {
          "output_type": "stream",
          "name": "stdout",
          "text": [
            "answer 3)\n",
            "<class 'pandas.core.frame.DataFrame'>\n",
            "RangeIndex: 5040 entries, 0 to 5039\n",
            "Data columns (total 8 columns):\n",
            " #   Column     Non-Null Count  Dtype  \n",
            "---  ------     --------------  -----  \n",
            " 0   index      5040 non-null   int64  \n",
            " 1   playId     5040 non-null   object \n",
            " 2   timestamp  5040 non-null   object \n",
            " 3   id         5040 non-null   int64  \n",
            " 4   type       5040 non-null   int64  \n",
            " 5   x          5040 non-null   float64\n",
            " 6   y          5040 non-null   float64\n",
            " 7   z          5040 non-null   int64  \n",
            "dtypes: float64(2), int64(4), object(2)\n",
            "memory usage: 315.1+ KB\n",
            "None\n",
            "    id  count(id)\n",
            "0    1        315\n",
            "1    2        315\n",
            "2    3        315\n",
            "3    4        315\n",
            "4    5        315\n",
            "5    6        315\n",
            "6    7        315\n",
            "7    8        315\n",
            "8    9        315\n",
            "9   10        315\n",
            "10  14        315\n",
            "11  15        315\n",
            "12  16        315\n",
            "13  17        315\n",
            "14  18        315\n",
            "15  19        315 \n",
            "looks good to me\n"
          ]
        }
      ]
    },
    {
      "cell_type": "code",
      "source": [
        "cursor.close()\n",
        "cnxn.close()"
      ],
      "metadata": {
        "id": "JXhXpnn3kQ4v"
      },
      "execution_count": 111,
      "outputs": []
    },
    {
      "cell_type": "markdown",
      "source": [
        "##Bonus\n",
        "The original instructions of this challenge stated the notebook must be idempotent.  There is a bug in this notebook if we were to re-run after it had already been run.  Find the bug and correct it."
      ],
      "metadata": {
        "id": "jrFTHKzLk2Cd"
      }
    },
    {
      "cell_type": "markdown",
      "source": [
        "**Once complete save the notebook to your github account (File->Save a copy in Github).**"
      ],
      "metadata": {
        "id": "jrGTHKzLk2Cc"
      }
    }
  ]
}